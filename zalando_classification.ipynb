{
  "cells": [
    {
      "cell_type": "markdown",
      "metadata": {
        "id": "view-in-github",
        "colab_type": "text"
      },
      "source": [
        "<a href=\"https://colab.research.google.com/github/aahashemi/zalando/blob/master/zalando_classification.ipynb\" target=\"_parent\"><img src=\"https://colab.research.google.com/assets/colab-badge.svg\" alt=\"Open In Colab\"/></a>"
      ]
    },
    {
      "cell_type": "code",
      "execution_count": 1,
      "metadata": {
        "id": "dzLKpmZICaWN",
        "outputId": "0009c8a3-0224-45f2-ad68-fae5c4c62f65",
        "colab": {
          "base_uri": "https://localhost:8080/"
        }
      },
      "outputs": [
        {
          "output_type": "stream",
          "name": "stdout",
          "text": [
            "2.8.2\n"
          ]
        }
      ],
      "source": [
        "# TensorFlow and tf.keras\n",
        "import tensorflow as tf\n",
        "\n",
        "# Helper libraries\n",
        "import numpy as np\n",
        "import pandas as pd\n",
        "import matplotlib.pyplot as plt\n",
        "\n",
        "print(tf.__version__)"
      ]
    },
    {
      "cell_type": "code",
      "source": [
        "from subprocess import check_output\n",
        "\n",
        "import pandas as pd\n",
        "import numpy as np\n",
        "import warnings\n",
        "warnings.filterwarnings('ignore')\n",
        "import matplotlib.pyplot as plt\n",
        "from sklearn.model_selection import train_test_split\n",
        "import keras\n",
        "from keras.models import Sequential\n",
        "from keras.layers import Conv2D,MaxPooling2D,Dense,Flatten,Dropout\n",
        "\n",
        "from keras.callbacks import TensorBoard\n",
        "num_classes = 10\n",
        "epochs = 20"
      ],
      "metadata": {
        "id": "m0NGdiAHCQrz"
      },
      "execution_count": 2,
      "outputs": []
    },
    {
      "cell_type": "code",
      "execution_count": 3,
      "metadata": {
        "id": "IjnLH5S2CaWx"
      },
      "outputs": [],
      "source": [
        "CATEGORIES = {'Jacket':0, 'Pants':1, 'Jeans':2, 'Shorts':3, 'T-shirt':4,\n",
        "                'Pullover':5, 'Bag':6, 'Cap':7, 'Sandal':8, 'Skirt':9}"
      ]
    },
    {
      "cell_type": "markdown",
      "source": [
        "# Get dataset from Kaggle"
      ],
      "metadata": {
        "id": "eXx2uY6lvUIF"
      }
    },
    {
      "cell_type": "code",
      "source": [
        "from google.colab import files\n",
        "files.upload()"
      ],
      "metadata": {
        "colab": {
          "resources": {
            "http://localhost:8080/nbextensions/google.colab/files.js": {
              "data": "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",
              "ok": true,
              "headers": [
                [
                  "content-type",
                  "application/javascript"
                ]
              ],
              "status": 200,
              "status_text": ""
            }
          },
          "base_uri": "https://localhost:8080/",
          "height": 111
        },
        "id": "b9Jz88imr4zU",
        "outputId": "ad9c5616-b552-418b-c0dc-4b52163041cd"
      },
      "execution_count": 4,
      "outputs": [
        {
          "output_type": "display_data",
          "data": {
            "text/plain": [
              "<IPython.core.display.HTML object>"
            ],
            "text/html": [
              "\n",
              "     <input type=\"file\" id=\"files-8ee921f6-868d-4a6a-9d3d-741566e4246a\" name=\"files[]\" multiple disabled\n",
              "        style=\"border:none\" />\n",
              "     <output id=\"result-8ee921f6-868d-4a6a-9d3d-741566e4246a\">\n",
              "      Upload widget is only available when the cell has been executed in the\n",
              "      current browser session. Please rerun this cell to enable.\n",
              "      </output>\n",
              "      <script src=\"/nbextensions/google.colab/files.js\"></script> "
            ]
          },
          "metadata": {}
        },
        {
          "output_type": "stream",
          "name": "stdout",
          "text": [
            "Saving kaggle.json to kaggle.json\n"
          ]
        },
        {
          "output_type": "execute_result",
          "data": {
            "text/plain": [
              "{'kaggle.json': b'{\"username\":\"aahashemi\",\"key\":\"b2e64443febc1a95318e40004aae967b\"}'}"
            ]
          },
          "metadata": {},
          "execution_count": 4
        }
      ]
    },
    {
      "cell_type": "code",
      "source": [
        "# 1\n",
        "! mkdir ~/.kaggle\n",
        "# 2\n",
        "! cp kaggle.json ~/.kaggle/\n",
        "# 3\n",
        "! chmod 600 ~/.kaggle/kaggle.json\n",
        "# 4\n",
        "! kaggle datasets list"
      ],
      "metadata": {
        "id": "sIiyBHiEtbQq"
      },
      "execution_count": null,
      "outputs": []
    },
    {
      "cell_type": "code",
      "source": [
        "# 5\n",
        "!kaggle datasets download -d aahashemi/zalando-fashion-dataset"
      ],
      "metadata": {
        "colab": {
          "base_uri": "https://localhost:8080/"
        },
        "id": "EHrx2PrOufwP",
        "outputId": "b26e9074-04c0-4cdb-e19e-d26b311c6bd5"
      },
      "execution_count": 6,
      "outputs": [
        {
          "output_type": "stream",
          "name": "stdout",
          "text": [
            "Downloading zalando-fashion-dataset.zip to /content\n",
            " 93% 47.0M/50.4M [00:00<00:00, 134MB/s]\n",
            "100% 50.4M/50.4M [00:00<00:00, 121MB/s]\n"
          ]
        }
      ]
    },
    {
      "cell_type": "code",
      "source": [
        "# 6\n",
        "!unzip zalando-fashion-dataset.zip"
      ],
      "metadata": {
        "colab": {
          "base_uri": "https://localhost:8080/"
        },
        "id": "YgjgFKOWux98",
        "outputId": "7f7d7dc6-1033-4969-d12d-f3d56b3e8904"
      },
      "execution_count": 7,
      "outputs": [
        {
          "output_type": "stream",
          "name": "stdout",
          "text": [
            "Archive:  zalando-fashion-dataset.zip\n",
            "  inflating: zalando_fashion_dataset.csv  \n"
          ]
        }
      ]
    },
    {
      "cell_type": "code",
      "source": [
        "df=pd.read_csv('zalando_fashion_dataset.csv')"
      ],
      "metadata": {
        "id": "dRTSXlRBFBa5"
      },
      "execution_count": 68,
      "outputs": []
    },
    {
      "cell_type": "code",
      "source": [
        ""
      ],
      "metadata": {
        "id": "qsSVpMHJL28S"
      },
      "execution_count": 30,
      "outputs": []
    },
    {
      "cell_type": "code",
      "source": [
        "df_train = df.iloc[:40000, 1:786] \n",
        "df_test = df.iloc[40000:45000, 1:786] \n",
        "df_validate = df.iloc[45000:, 1:786] "
      ],
      "metadata": {
        "id": "3iKvgWP1h9Ln"
      },
      "execution_count": 69,
      "outputs": []
    },
    {
      "cell_type": "code",
      "source": [
        "def plot_image(img, title):\n",
        "    #cv_im = image_to_array(img)\n",
        "    cv_im = img\n",
        "    plt.figure()\n",
        "    plt.imshow(cv_im)\n",
        "    plt.colorbar()\n",
        "    plt.grid(False)\n",
        "    plt.title(title)\n",
        "    plt.show()"
      ],
      "metadata": {
        "id": "kru4ck5jkuHD"
      },
      "execution_count": 75,
      "outputs": []
    },
    {
      "cell_type": "code",
      "source": [
        "x_train = df_train.iloc[:, 1:786] / 8\n",
        "y_train = df_train.iloc[:, 0] \n",
        "\n",
        "x_test = df_test.iloc[:, 1:786] / 8\n",
        "y_test = df_test.iloc[:, 0]\n",
        "\n",
        "x_validate = df_validate.iloc[:, 1:786] / 8\n",
        "y_validate = df_validate.iloc[:, 0]"
      ],
      "metadata": {
        "id": "FmAns7MAqCXm"
      },
      "execution_count": 71,
      "outputs": []
    },
    {
      "cell_type": "code",
      "source": [
        "print(x_test.shape)\n",
        "print(y_test.shape)"
      ],
      "metadata": {
        "colab": {
          "base_uri": "https://localhost:8080/"
        },
        "id": "IoGzyo9VSf12",
        "outputId": "8e0018b2-db3f-4968-c888-c9e8de16be10"
      },
      "execution_count": 13,
      "outputs": [
        {
          "output_type": "stream",
          "name": "stdout",
          "text": [
            "(5000, 784)\n",
            "(5000,)\n"
          ]
        }
      ]
    },
    {
      "cell_type": "code",
      "source": [
        "index = 454\n",
        "image = x_train.iloc[index].values.reshape(28,28)\n",
        "label = y_train.iloc[index]\n",
        "\n",
        "categoty = list(CATEGORIES.keys())[list(CATEGORIES.values()).index(label)]\n",
        "title = f\"Label: {categoty}\\nLabel Number: {label}\"\n",
        "plot_image(image, title)\n"
      ],
      "metadata": {
        "colab": {
          "base_uri": "https://localhost:8080/",
          "height": 296
        },
        "id": "HCqzBQ2pNle6",
        "outputId": "3ef9406a-de81-4d9d-cc0a-49c385ead613"
      },
      "execution_count": 83,
      "outputs": [
        {
          "output_type": "display_data",
          "data": {
            "text/plain": [
              "<Figure size 432x288 with 2 Axes>"
            ],
            "image/png": "[encoded data removed]"
          },
          "metadata": {
            "needs_background": "light"
          }
        }
      ]
    },
    {
      "cell_type": "code",
      "execution_count": 88,
      "metadata": {
        "id": "oZTImqg_CaW1",
        "outputId": "a35823f5-ed06-4a64-de36-582f5b7c3694",
        "colab": {
          "base_uri": "https://localhost:8080/",
          "height": 607
        }
      },
      "outputs": [
        {
          "output_type": "display_data",
          "data": {
            "text/plain": [
              "<Figure size 720x720 with 0 Axes>"
            ]
          },
          "metadata": {}
        },
        {
          "output_type": "display_data",
          "data": {
            "text/plain": [
              "<Figure size 720x720 with 25 Axes>"
            ],
            "image/png": "[encoded data removed]"
          },
          "metadata": {}
        }
      ],
      "source": [
        "plt.figure(figsize=(10,10))\n",
        "plt.figure(figsize=(10,10))\n",
        "for i in range(25):\n",
        "    plt.subplot(5,5,i+1)\n",
        "    plt.xticks([])\n",
        "    plt.yticks([])\n",
        "    plt.grid(False)\n",
        "    plt.imshow(x_train.iloc[i].values.reshape(28,28), cmap=plt.cm.binary)\n",
        "    label = y_train.iloc[i]\n",
        "    x_label = list(CATEGORIES.keys())[list(CATEGORIES.values()).index(label)]\n",
        "    plt.xlabel(x_label)\n",
        "# plt.savefig('image.pdf')\n",
        "plt.show()\n"
      ]
    },
    {
      "cell_type": "markdown",
      "source": [
        "# CNN"
      ],
      "metadata": {
        "id": "AfNzbV0072r1"
      }
    },
    {
      "cell_type": "code",
      "source": [
        "cnn_model = tf.keras.Sequential([\n",
        "    Conv2D(filters=32,kernel_size=1,activation='relu',input_shape=(28,28,1)),\n",
        "    MaxPooling2D(pool_size=2) ,# down sampling the output instead of 28*28 it is 14*14\n",
        "    Dropout(0.2),\n",
        "    Flatten(), # flatten out the layers\n",
        "    Dense(32,activation='relu'),\n",
        "    Dense(10,activation='softmax')   \n",
        "])"
      ],
      "metadata": {
        "id": "0BFqw4BW5aR2"
      },
      "execution_count": 89,
      "outputs": []
    },
    {
      "cell_type": "code",
      "source": [
        "cnn_model.compile(loss ='sparse_categorical_crossentropy', optimizer='adam',metrics =['accuracy'])"
      ],
      "metadata": {
        "id": "_zyiNmwL5kEH"
      },
      "execution_count": 90,
      "outputs": []
    },
    {
      "cell_type": "code",
      "source": [
        "x_train = x_train.values.reshape(-1,28,28)\n",
        "y_train = y_train.values.reshape(-1,1)\n",
        "print(x_train.shape)\n",
        "print(y_train.shape)"
      ],
      "metadata": {
        "colab": {
          "base_uri": "https://localhost:8080/"
        },
        "id": "TQhFDZdAK-O0",
        "outputId": "f169636c-7805-4c4a-86cb-6b07748d2e7b"
      },
      "execution_count": 91,
      "outputs": [
        {
          "output_type": "stream",
          "name": "stdout",
          "text": [
            "(40000, 28, 28)\n",
            "(40000, 1)\n"
          ]
        }
      ]
    },
    {
      "cell_type": "code",
      "source": [
        "x_validate = x_validate.values.reshape(-1,28,28)\n",
        "y_validate = y_validate.values.reshape(-1,1)\n",
        "print(x_validate.shape)\n",
        "print(y_validate.shape)"
      ],
      "metadata": {
        "colab": {
          "base_uri": "https://localhost:8080/"
        },
        "id": "WgU5pWQiz0Gh",
        "outputId": "80ad56eb-67f5-4788-fbf2-463fe305a989"
      },
      "execution_count": 94,
      "outputs": [
        {
          "output_type": "stream",
          "name": "stdout",
          "text": [
            "(6826, 28, 28)\n",
            "(6826, 1)\n"
          ]
        }
      ]
    },
    {
      "cell_type": "code",
      "source": [
        "history = cnn_model.fit(\n",
        "    x_train,\n",
        "    y_train,\n",
        "    batch_size=1000,\n",
        "    epochs=75,\n",
        "    verbose=1,\n",
        "    validation_data=(x_validate,y_validate)\n",
        ")"
      ],
      "metadata": {
        "id": "asbzADp75n5I"
      },
      "execution_count": null,
      "outputs": []
    },
    {
      "cell_type": "code",
      "source": [
        "plt.figure(figsize=(10, 10))\n",
        "\n",
        "plt.subplot(2, 2, 1)\n",
        "plt.plot(history.history['loss'], label='Loss')\n",
        "plt.plot(history.history['val_loss'], label='Validation Loss')\n",
        "plt.legend()\n",
        "plt.title('Training - Loss Function')\n",
        "\n",
        "plt.subplot(2, 2, 2)\n",
        "plt.plot(history.history['accuracy'], label='Accuracy')\n",
        "plt.plot(history.history['val_accuracy'], label='Validation Accuracy')\n",
        "plt.legend()\n",
        "plt.title('Train - Accuracy')"
      ],
      "metadata": {
        "colab": {
          "base_uri": "https://localhost:8080/",
          "height": 329
        },
        "id": "qlMf9i243wrX",
        "outputId": "5538b541-4719-4339-9b02-0e47c7fe9162"
      },
      "execution_count": 100,
      "outputs": [
        {
          "output_type": "execute_result",
          "data": {
            "text/plain": [
              "Text(0.5, 1.0, 'Train - Accuracy')"
            ]
          },
          "metadata": {},
          "execution_count": 100
        },
        {
          "output_type": "display_data",
          "data": {
            "text/plain": [
              "<Figure size 720x720 with 2 Axes>"
            ],
            "image/png": "[encoded data removed]"
          },
          "metadata": {
            "needs_background": "light"
          }
        }
      ]
    },
    {
      "cell_type": "code",
      "source": [
        "x_test = x_test.values.reshape(-1,28,28)\n",
        "y_test = y_test.values.reshape(-1,1)\n",
        "print(x_test.shape)\n",
        "print(y_test.shape)"
      ],
      "metadata": {
        "colab": {
          "base_uri": "https://localhost:8080/"
        },
        "id": "GuPUc_dI4_xc",
        "outputId": "db395e1c-0ac1-4941-ff9f-2a4275ea7249"
      },
      "execution_count": 102,
      "outputs": [
        {
          "output_type": "stream",
          "name": "stdout",
          "text": [
            "(5000, 28, 28)\n",
            "(5000, 1)\n"
          ]
        }
      ]
    },
    {
      "cell_type": "code",
      "source": [
        "predicted_classes = cnn_model.predict(x_test)"
      ],
      "metadata": {
        "colab": {
          "base_uri": "https://localhost:8080/"
        },
        "id": "yzXEvHkH4y9L",
        "outputId": "0b631012-3e3a-4177-9ecd-3d19e16b4915"
      },
      "execution_count": 142,
      "outputs": [
        {
          "output_type": "execute_result",
          "data": {
            "text/plain": [
              "(5000, 10)"
            ]
          },
          "metadata": {},
          "execution_count": 142
        }
      ]
    },
    {
      "cell_type": "code",
      "source": [
        "index =980\n",
        "print(y_test[index])\n",
        "predicted_list = predicted_classes[index]\n",
        "index_max = np.argmax(predicted_list)\n",
        "# print(sum(predicted_list))\n",
        "# print(predicted_list)\n",
        "\n",
        "print(index_max)\n"
      ],
      "metadata": {
        "colab": {
          "base_uri": "https://localhost:8080/"
        },
        "id": "BipxcFaF5pPM",
        "outputId": "ffe28041-8858-45ae-e18f-b9ff420d665b"
      },
      "execution_count": 131,
      "outputs": [
        {
          "output_type": "stream",
          "name": "stdout",
          "text": [
            "[0.]\n",
            "5\n"
          ]
        }
      ]
    },
    {
      "cell_type": "code",
      "source": [
        "L = 5\n",
        "W = 5\n",
        "fig, axes = plt.subplots(L, W, figsize = (12,12))\n",
        "axes = axes.ravel()\n",
        "n = 0\n",
        "for i in np.arange(0, L * W):  \n",
        "    axes[i].imshow(x_test[i].reshape(28,28))\n",
        "    predicted_list = predicted_classes[i]\n",
        "    index_max = np.argmax(predicted_list)\n",
        "\n",
        "    predicted_class = list(CATEGORIES.keys())[list(CATEGORIES.values()).index(index_max)]\n",
        "    original_class = list(CATEGORIES.keys())[list(CATEGORIES.values()).index(y_test[i][0])]\n",
        "    if predicted_class ==original_class:\n",
        "      n+=1\n",
        "    axes[i].set_title(f\"Original = {original_class}\\n Predeicted = {predicted_class}\")\n",
        "    axes[i].axis('off')\n",
        "print(n/(L * W)*100)\n",
        "plt.subplots_adjust(wspace=0.5)"
      ],
      "metadata": {
        "id": "sDN0L4uV4lL1"
      },
      "execution_count": null,
      "outputs": []
    },
    {
      "cell_type": "markdown",
      "source": [
        "# MLP"
      ],
      "metadata": {
        "id": "brHWZ3O46aP9"
      }
    },
    {
      "cell_type": "code",
      "execution_count": 49,
      "metadata": {
        "id": "9ODch-OFCaW4"
      },
      "outputs": [],
      "source": [
        "model = tf.keras.Sequential([\n",
        "    tf.keras.layers.Dense(128, activation='relu',input_dim=784),\n",
        "    tf.keras.layers.Dense(128, activation='relu'),\n",
        "    tf.keras.layers.Dense(64, activation='relu'),\n",
        "    tf.keras.layers.Dense(32, activation='relu'),\n",
        "    tf.keras.layers.Dense(16, activation='relu'),\n",
        "    tf.keras.layers.Dense(10)\n",
        "])"
      ]
    },
    {
      "cell_type": "code",
      "execution_count": 50,
      "metadata": {
        "id": "Lhan11blCaW7"
      },
      "outputs": [],
      "source": [
        "model.compile(optimizer='adam',\n",
        "              loss=tf.keras.losses.SparseCategoricalCrossentropy(from_logits=True),\n",
        "              metrics=['accuracy'])"
      ]
    },
    {
      "cell_type": "code",
      "execution_count": 51,
      "metadata": {
        "id": "xvwvpA64CaW_",
        "colab": {
          "base_uri": "https://localhost:8080/"
        },
        "outputId": "b95f0dc6-2fde-4374-f4b1-4dcfb0e9c9da"
      },
      "outputs": [
        {
          "output_type": "stream",
          "name": "stdout",
          "text": [
            "Epoch 1/50\n",
            "1250/1250 [==============================] - 6s 4ms/step - loss: 1.5613 - accuracy: 0.4046 - val_loss: 1.2476 - val_accuracy: 0.5322\n",
            "Epoch 2/50\n",
            "1250/1250 [==============================] - 6s 5ms/step - loss: 1.2571 - accuracy: 0.5265 - val_loss: 1.1585 - val_accuracy: 0.5781\n",
            "Epoch 3/50\n",
            "1250/1250 [==============================] - 5s 4ms/step - loss: 1.1556 - accuracy: 0.5737 - val_loss: 1.0737 - val_accuracy: 0.6116\n",
            "Epoch 4/50\n",
            "1250/1250 [==============================] - 5s 4ms/step - loss: 1.0928 - accuracy: 0.5969 - val_loss: 1.0522 - val_accuracy: 0.6160\n",
            "Epoch 5/50\n",
            "1250/1250 [==============================] - 5s 4ms/step - loss: 1.0504 - accuracy: 0.6108 - val_loss: 1.1032 - val_accuracy: 0.6018\n",
            "Epoch 6/50\n",
            "1250/1250 [==============================] - 5s 4ms/step - loss: 1.0197 - accuracy: 0.6243 - val_loss: 1.0805 - val_accuracy: 0.6113\n",
            "Epoch 7/50\n",
            "1250/1250 [==============================] - 5s 4ms/step - loss: 1.0105 - accuracy: 0.6255 - val_loss: 0.9976 - val_accuracy: 0.6304\n",
            "Epoch 8/50\n",
            "1250/1250 [==============================] - 5s 4ms/step - loss: 0.9852 - accuracy: 0.6346 - val_loss: 0.9686 - val_accuracy: 0.6398\n",
            "Epoch 9/50\n",
            "1250/1250 [==============================] - 5s 4ms/step - loss: 0.9686 - accuracy: 0.6439 - val_loss: 0.9920 - val_accuracy: 0.6342\n",
            "Epoch 10/50\n",
            "1250/1250 [==============================] - 5s 4ms/step - loss: 0.9588 - accuracy: 0.6456 - val_loss: 1.0806 - val_accuracy: 0.6097\n",
            "Epoch 11/50\n",
            "1250/1250 [==============================] - 5s 4ms/step - loss: 0.9372 - accuracy: 0.6539 - val_loss: 0.9900 - val_accuracy: 0.6360\n",
            "Epoch 12/50\n",
            "1250/1250 [==============================] - 5s 4ms/step - loss: 0.9268 - accuracy: 0.6569 - val_loss: 1.0060 - val_accuracy: 0.6250\n",
            "Epoch 13/50\n",
            "1250/1250 [==============================] - 5s 4ms/step - loss: 0.9119 - accuracy: 0.6643 - val_loss: 0.9422 - val_accuracy: 0.6572\n",
            "Epoch 14/50\n",
            "1250/1250 [==============================] - 5s 4ms/step - loss: 0.8996 - accuracy: 0.6672 - val_loss: 0.9729 - val_accuracy: 0.6437\n",
            "Epoch 15/50\n",
            "1250/1250 [==============================] - 5s 4ms/step - loss: 0.8991 - accuracy: 0.6689 - val_loss: 0.9128 - val_accuracy: 0.6689\n",
            "Epoch 16/50\n",
            "1250/1250 [==============================] - 5s 4ms/step - loss: 0.8816 - accuracy: 0.6720 - val_loss: 0.9424 - val_accuracy: 0.6527\n",
            "Epoch 17/50\n",
            "1250/1250 [==============================] - 5s 4ms/step - loss: 0.8753 - accuracy: 0.6745 - val_loss: 0.9386 - val_accuracy: 0.6442\n",
            "Epoch 18/50\n",
            "1250/1250 [==============================] - 5s 4ms/step - loss: 0.8658 - accuracy: 0.6768 - val_loss: 0.9347 - val_accuracy: 0.6597\n",
            "Epoch 19/50\n",
            "1250/1250 [==============================] - 5s 4ms/step - loss: 0.8608 - accuracy: 0.6781 - val_loss: 0.9134 - val_accuracy: 0.6631\n",
            "Epoch 20/50\n",
            "1250/1250 [==============================] - 5s 4ms/step - loss: 0.8503 - accuracy: 0.6820 - val_loss: 0.8963 - val_accuracy: 0.6683\n",
            "Epoch 21/50\n",
            "1250/1250 [==============================] - 5s 4ms/step - loss: 0.8456 - accuracy: 0.6859 - val_loss: 0.9391 - val_accuracy: 0.6595\n",
            "Epoch 22/50\n",
            "1250/1250 [==============================] - 5s 4ms/step - loss: 0.8323 - accuracy: 0.6918 - val_loss: 0.8755 - val_accuracy: 0.6777\n",
            "Epoch 23/50\n",
            "1250/1250 [==============================] - 5s 4ms/step - loss: 0.8277 - accuracy: 0.6937 - val_loss: 0.8977 - val_accuracy: 0.6739\n",
            "Epoch 24/50\n",
            "1250/1250 [==============================] - 5s 4ms/step - loss: 0.8183 - accuracy: 0.6967 - val_loss: 0.8858 - val_accuracy: 0.6830\n",
            "Epoch 25/50\n",
            "1250/1250 [==============================] - 5s 4ms/step - loss: 0.8132 - accuracy: 0.6991 - val_loss: 0.9079 - val_accuracy: 0.6688\n",
            "Epoch 26/50\n",
            "1250/1250 [==============================] - 5s 4ms/step - loss: 0.8081 - accuracy: 0.7000 - val_loss: 0.8673 - val_accuracy: 0.6833\n",
            "Epoch 27/50\n",
            "1250/1250 [==============================] - 5s 4ms/step - loss: 0.8006 - accuracy: 0.7041 - val_loss: 0.8749 - val_accuracy: 0.6834\n",
            "Epoch 28/50\n",
            "1250/1250 [==============================] - 5s 4ms/step - loss: 0.7970 - accuracy: 0.7035 - val_loss: 0.8911 - val_accuracy: 0.6811\n",
            "Epoch 29/50\n",
            "1250/1250 [==============================] - 5s 4ms/step - loss: 0.7919 - accuracy: 0.7052 - val_loss: 0.8863 - val_accuracy: 0.6828\n",
            "Epoch 30/50\n",
            "1250/1250 [==============================] - 7s 6ms/step - loss: 0.7843 - accuracy: 0.7091 - val_loss: 0.8713 - val_accuracy: 0.6841\n",
            "Epoch 31/50\n",
            "1250/1250 [==============================] - 9s 7ms/step - loss: 0.7817 - accuracy: 0.7071 - val_loss: 0.8607 - val_accuracy: 0.6902\n",
            "Epoch 32/50\n",
            "1250/1250 [==============================] - 9s 8ms/step - loss: 0.7756 - accuracy: 0.7113 - val_loss: 0.8794 - val_accuracy: 0.6789\n",
            "Epoch 33/50\n",
            "1250/1250 [==============================] - 8s 7ms/step - loss: 0.7720 - accuracy: 0.7113 - val_loss: 0.8705 - val_accuracy: 0.6853\n",
            "Epoch 34/50\n",
            "1250/1250 [==============================] - 8s 6ms/step - loss: 0.7692 - accuracy: 0.7147 - val_loss: 0.8911 - val_accuracy: 0.6755\n",
            "Epoch 35/50\n",
            "1250/1250 [==============================] - 8s 6ms/step - loss: 0.7601 - accuracy: 0.7177 - val_loss: 0.8687 - val_accuracy: 0.6888\n",
            "Epoch 36/50\n",
            "1250/1250 [==============================] - 5s 4ms/step - loss: 0.7525 - accuracy: 0.7183 - val_loss: 0.8667 - val_accuracy: 0.6836\n",
            "Epoch 37/50\n",
            "1250/1250 [==============================] - 5s 4ms/step - loss: 0.7547 - accuracy: 0.7189 - val_loss: 0.8553 - val_accuracy: 0.6907\n",
            "Epoch 38/50\n",
            "1250/1250 [==============================] - 5s 4ms/step - loss: 0.7444 - accuracy: 0.7220 - val_loss: 0.8977 - val_accuracy: 0.6765\n",
            "Epoch 39/50\n",
            "1250/1250 [==============================] - 5s 4ms/step - loss: 0.7431 - accuracy: 0.7231 - val_loss: 0.8396 - val_accuracy: 0.7013\n",
            "Epoch 40/50\n",
            "1250/1250 [==============================] - 5s 4ms/step - loss: 0.7370 - accuracy: 0.7254 - val_loss: 0.8653 - val_accuracy: 0.6884\n",
            "Epoch 41/50\n",
            "1250/1250 [==============================] - 5s 4ms/step - loss: 0.7325 - accuracy: 0.7265 - val_loss: 0.8953 - val_accuracy: 0.6723\n",
            "Epoch 42/50\n",
            "1250/1250 [==============================] - 5s 4ms/step - loss: 0.7239 - accuracy: 0.7285 - val_loss: 0.8577 - val_accuracy: 0.6956\n",
            "Epoch 43/50\n",
            "1250/1250 [==============================] - 5s 4ms/step - loss: 0.7258 - accuracy: 0.7285 - val_loss: 0.9162 - val_accuracy: 0.6825\n",
            "Epoch 44/50\n",
            "1250/1250 [==============================] - 5s 4ms/step - loss: 0.7207 - accuracy: 0.7309 - val_loss: 0.8630 - val_accuracy: 0.6837\n",
            "Epoch 45/50\n",
            "1250/1250 [==============================] - 6s 5ms/step - loss: 0.7217 - accuracy: 0.7301 - val_loss: 0.8641 - val_accuracy: 0.6868\n",
            "Epoch 46/50\n",
            "1250/1250 [==============================] - 5s 4ms/step - loss: 0.7071 - accuracy: 0.7332 - val_loss: 0.9040 - val_accuracy: 0.6815\n",
            "Epoch 47/50\n",
            "1250/1250 [==============================] - 5s 4ms/step - loss: 0.7104 - accuracy: 0.7347 - val_loss: 0.9034 - val_accuracy: 0.6811\n",
            "Epoch 48/50\n",
            "1250/1250 [==============================] - 5s 4ms/step - loss: 0.7069 - accuracy: 0.7338 - val_loss: 0.8420 - val_accuracy: 0.6970\n",
            "Epoch 49/50\n",
            "1250/1250 [==============================] - 5s 4ms/step - loss: 0.7048 - accuracy: 0.7375 - val_loss: 0.8745 - val_accuracy: 0.6932\n",
            "Epoch 50/50\n",
            "1250/1250 [==============================] - 5s 4ms/step - loss: 0.6983 - accuracy: 0.7372 - val_loss: 0.8911 - val_accuracy: 0.6768\n"
          ]
        },
        {
          "output_type": "execute_result",
          "data": {
            "text/plain": [
              "<keras.callbacks.History at 0x7fe7168b5890>"
            ]
          },
          "metadata": {},
          "execution_count": 51
        }
      ],
      "source": [
        "model.fit(x_train, \n",
        "          y_train, \n",
        "          epochs=50,\n",
        "          validation_data=(x_validate, y_validate))"
      ]
    },
    {
      "cell_type": "code",
      "execution_count": 52,
      "metadata": {
        "id": "VflXLEeECaXC",
        "colab": {
          "base_uri": "https://localhost:8080/"
        },
        "outputId": "211f4006-1af7-45c7-a861-4a5484d4682b"
      },
      "outputs": [
        {
          "output_type": "stream",
          "name": "stdout",
          "text": [
            "157/157 - 0s - loss: 0.9008 - accuracy: 0.6824 - 236ms/epoch - 2ms/step\n",
            "\n",
            "Test accuracy: 0.6823999881744385\n"
          ]
        }
      ],
      "source": [
        "test_loss, test_acc = model.evaluate(x_test, y_test, verbose=2)\n",
        "\n",
        "print('\\nTest accuracy:', test_acc)"
      ]
    },
    {
      "cell_type": "code",
      "execution_count": 53,
      "metadata": {
        "id": "DnfNA0CrQLSD"
      },
      "outputs": [],
      "source": [
        "probability_model = tf.keras.Sequential([model,tf.keras.layers.Softmax()])"
      ]
    },
    {
      "cell_type": "code",
      "execution_count": 54,
      "metadata": {
        "id": "Gl91RPhdCaXI"
      },
      "outputs": [],
      "source": [
        "predictions = probability_model.predict(x_test)"
      ]
    },
    {
      "cell_type": "code",
      "execution_count": 43,
      "metadata": {
        "id": "3DmJEUinCaXK",
        "outputId": "e1f95a1f-4abf-4095-d4e4-da9b226ddae5",
        "colab": {
          "base_uri": "https://localhost:8080/"
        }
      },
      "outputs": [
        {
          "output_type": "stream",
          "name": "stdout",
          "text": [
            "5\n",
            "8.0\n"
          ]
        }
      ],
      "source": [
        "index = 434\n",
        "predictions[index]\n",
        "print(np.argmax(predictions[index]))\n",
        "print(y_test.iloc[index])"
      ]
    },
    {
      "cell_type": "code",
      "source": [
        "print(np.array(x_test.iloc[0]).reshape(28,28))"
      ],
      "metadata": {
        "id": "JWJ1xRnmH28B"
      },
      "execution_count": null,
      "outputs": []
    },
    {
      "cell_type": "code",
      "source": [
        "L = 5\n",
        "W = 5\n",
        "fig, axes = plt.subplots(L, W, figsize = (12,12))\n",
        "axes = axes.ravel()\n",
        "n = 0\n",
        "for i in np.arange(0, L * W):  \n",
        "    j = i+542\n",
        "    axes[i].imshow(np.array(x_test.iloc[j]).reshape(28,28))\n",
        "    index_max = np.argmax(predictions[j])\n",
        "\n",
        "    predicted_class = list(CATEGORIES.keys())[list(CATEGORIES.values()).index(index_max)]\n",
        "    original_class = list(CATEGORIES.keys())[list(CATEGORIES.values()).index(y_test.iloc[j])]\n",
        "    if predicted_class ==original_class:\n",
        "      n+=1\n",
        "    axes[i].set_title(f\"Original = {original_class}\\n Predicted = {predicted_class}\")\n",
        "    axes[i].axis('off')\n",
        "print(n/(L * W)*100)\n",
        "plt.savefig('image.pdf')\n",
        "plt.subplots_adjust(wspace=0.5)"
      ],
      "metadata": {
        "colab": {
          "base_uri": "https://localhost:8080/",
          "height": 673
        },
        "id": "DU6G9VDnHMBC",
        "outputId": "db98a5d9-cceb-4acc-cce3-63d97980ac75"
      },
      "execution_count": 65,
      "outputs": [
        {
          "output_type": "stream",
          "name": "stdout",
          "text": [
            "80.0\n"
          ]
        },
        {
          "output_type": "display_data",
          "data": {
            "text/plain": [
              "<Figure size 864x864 with 25 Axes>"
            ],
            "image/png": "[encoded data removed]"
          },
          "metadata": {
            "needs_background": "light"
          }
        }
      ]
    },
    {
      "cell_type": "code",
      "source": [
        "model.save('zalado_fashion_model')"
      ],
      "metadata": {
        "colab": {
          "base_uri": "https://localhost:8080/"
        },
        "id": "ZrUoy7nu8TgF",
        "outputId": "28e51b3d-b97c-4770-a3ca-3c187dc72fa6"
      },
      "execution_count": 25,
      "outputs": [
        {
          "output_type": "stream",
          "name": "stdout",
          "text": [
            "INFO:tensorflow:Assets written to: zalado_fashion_model/assets\n"
          ]
        }
      ]
    },
    {
      "cell_type": "code",
      "source": [
        "from tensorflow import keras\n",
        "mymodel = keras.models.load_model('zalado_fashion_model')\n"
      ],
      "metadata": {
        "id": "eEVSW1I4-4Xs"
      },
      "execution_count": 26,
      "outputs": []
    },
    {
      "cell_type": "code",
      "source": [
        "probability_model = tf.keras.Sequential([mymodel,tf.keras.layers.Softmax()])\n",
        "predictions = probability_model.predict(x_test)"
      ],
      "metadata": {
        "id": "B7HEtuHy_SN7"
      },
      "execution_count": 27,
      "outputs": []
    },
    {
      "cell_type": "code",
      "source": [
        "index = 434\n",
        "predictions[index]\n",
        "print(np.argmax(predictions[index]))\n",
        "print(y_test.iloc[index])"
      ],
      "metadata": {
        "colab": {
          "base_uri": "https://localhost:8080/"
        },
        "id": "Fr2ADOIP_GGR",
        "outputId": "319236cb-5092-4264-ea58-c8f78c895744"
      },
      "execution_count": 29,
      "outputs": [
        {
          "output_type": "stream",
          "name": "stdout",
          "text": [
            "3\n",
            "3.0\n"
          ]
        }
      ]
    },
    {
      "cell_type": "code",
      "source": [
        "files.download(\"/content/zalado_fashion_model\")"
      ],
      "metadata": {
        "colab": {
          "base_uri": "https://localhost:8080/",
          "height": 34
        },
        "id": "Pbv4BM-zLy_-",
        "outputId": "6db32172-c23b-41fa-eade-bcdfe3d9d4ca"
      },
      "execution_count": 101,
      "outputs": [
        {
          "output_type": "display_data",
          "data": {
            "text/plain": [
              "<IPython.core.display.Javascript object>"
            ],
            "application/javascript": [
              "\n",
              "    async function download(id, filename, size) {\n",
              "      if (!google.colab.kernel.accessAllowed) {\n",
              "        return;\n",
              "      }\n",
              "      const div = document.createElement('div');\n",
              "      const label = document.createElement('label');\n",
              "      label.textContent = `Downloading \"${filename}\": `;\n",
              "      div.appendChild(label);\n",
              "      const progress = document.createElement('progress');\n",
              "      progress.max = size;\n",
              "      div.appendChild(progress);\n",
              "      document.body.appendChild(div);\n",
              "\n",
              "      const buffers = [];\n",
              "      let downloaded = 0;\n",
              "\n",
              "      const channel = await google.colab.kernel.comms.open(id);\n",
              "      // Send a message to notify the kernel that we're ready.\n",
              "      channel.send({})\n",
              "\n",
              "      for await (const message of channel.messages) {\n",
              "        // Send a message to notify the kernel that we're ready.\n",
              "        channel.send({})\n",
              "        if (message.buffers) {\n",
              "          for (const buffer of message.buffers) {\n",
              "            buffers.push(buffer);\n",
              "            downloaded += buffer.byteLength;\n",
              "            progress.value = downloaded;\n",
              "          }\n",
              "        }\n",
              "      }\n",
              "      const blob = new Blob(buffers, {type: 'application/binary'});\n",
              "      const a = document.createElement('a');\n",
              "      a.href = window.URL.createObjectURL(blob);\n",
              "      a.download = filename;\n",
              "      div.appendChild(a);\n",
              "      a.click();\n",
              "      div.remove();\n",
              "    }\n",
              "  "
            ]
          },
          "metadata": {}
        },
        {
          "output_type": "display_data",
          "data": {
            "text/plain": [
              "<IPython.core.display.Javascript object>"
            ],
            "application/javascript": [
              "download(\"download_a8837878-ed41-41c5-91a2-994adddf568c\", \"zalado_fashion_model\", 4096)"
            ]
          },
          "metadata": {}
        }
      ]
    },
    {
      "cell_type": "code",
      "source": [
        "\n",
        "!zip \"/content/o.zip\" \"/content/zalado_fashion_model\""
      ],
      "metadata": {
        "colab": {
          "base_uri": "https://localhost:8080/"
        },
        "id": "bPWwZavAOJ9H",
        "outputId": "7df6885d-8047-4eeb-efc9-78a1c01497c1"
      },
      "execution_count": 100,
      "outputs": [
        {
          "output_type": "stream",
          "name": "stdout",
          "text": [
            "updating: content/zalado_fashion_model/ (stored 0%)\n"
          ]
        }
      ]
    }
  ],
  "metadata": {
    "colab": {
      "collapsed_sections": [],
      "name": "zalando_classification.ipynb",
      "provenance": [],
      "include_colab_link": true
    },
    "kernelspec": {
      "display_name": "Python 3",
      "name": "python3"
    }
  },
  "nbformat": 4,
  "nbformat_minor": 0
}